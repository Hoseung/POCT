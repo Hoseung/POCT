{
 "cells": [
  {
   "cell_type": "code",
   "execution_count": 1,
   "id": "aa666122",
   "metadata": {},
   "outputs": [],
   "source": [
    "from utils import LotCorrector"
   ]
  },
  {
   "cell_type": "code",
   "execution_count": 2,
   "id": "cc31cffd",
   "metadata": {},
   "outputs": [],
   "source": [
    "product = 'AniCheck-bIgG'\n",
    "lotnum = 23001\n",
    "fn_sample_result = \"./23001_diff2.csv\""
   ]
  },
  {
   "cell_type": "code",
   "execution_count": 3,
   "id": "3d23bdb9",
   "metadata": {},
   "outputs": [
    {
     "name": "stdout",
     "output_type": "stream",
     "text": [
      "Fitting done:\n",
      "Mean Squared Error: 61.06418640902982\n",
      "R-squared: 0.9785652879917128\n",
      "\n",
      "writing Coeffs done: -> AniCheck-bIgG_23001.dat\n",
      "\n",
      "Saving QR image done: -> AniCheck-bIgG 23001_qr.png\n",
      "Proteomtech AniCheck-bIgG BIG23001 231222 ad4d4386e5\n",
      "DONE!\n"
     ]
    }
   ],
   "source": [
    "lc = LotCorrector(fn_sample_result, product, lotnum, degree=6, exp_date = \"231222\")"
   ]
  },
  {
   "cell_type": "code",
   "execution_count": null,
   "id": "07c5db33",
   "metadata": {},
   "outputs": [],
   "source": []
  }
 ],
 "metadata": {
  "kernelspec": {
   "display_name": "Python 3 (ipykernel)",
   "language": "python",
   "name": "python3"
  },
  "language_info": {
   "codemirror_mode": {
    "name": "ipython",
    "version": 3
   },
   "file_extension": ".py",
   "mimetype": "text/x-python",
   "name": "python",
   "nbconvert_exporter": "python",
   "pygments_lexer": "ipython3",
   "version": "3.9.0"
  }
 },
 "nbformat": 4,
 "nbformat_minor": 5
}
